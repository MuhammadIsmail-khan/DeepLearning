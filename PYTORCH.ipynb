{
  "nbformat": 4,
  "nbformat_minor": 0,
  "metadata": {
    "colab": {
      "provenance": [],
      "gpuType": "T4"
    },
    "kernelspec": {
      "name": "python3",
      "display_name": "Python 3"
    },
    "language_info": {
      "name": "python"
    },
    "accelerator": "GPU"
  },
  "cells": [
    {
      "cell_type": "code",
      "execution_count": 3,
      "metadata": {
        "colab": {
          "base_uri": "https://localhost:8080/"
        },
        "id": "wTT7W7hhdoHF",
        "outputId": "75fb428c-536c-4935-8fda-98716e23e70c"
      },
      "outputs": [
        {
          "output_type": "stream",
          "name": "stdout",
          "text": [
            "2.6.0+cu124\n"
          ]
        }
      ],
      "source": [
        "import torch\n",
        "print(torch.__version__)"
      ]
    },
    {
      "cell_type": "code",
      "source": [
        "if torch.cuda.is_available():\n",
        "  print(\"GPU \")\n",
        "  print(\"Devide : \",torch.cuda.get_device_name())\n",
        "else:\n",
        "  print(\"No GPU\")"
      ],
      "metadata": {
        "colab": {
          "base_uri": "https://localhost:8080/"
        },
        "id": "vsaIyejfduvk",
        "outputId": "e1530546-dc00-4114-d96f-0e0b1c7dd2dd"
      },
      "execution_count": 4,
      "outputs": [
        {
          "output_type": "stream",
          "name": "stdout",
          "text": [
            "No GPU\n"
          ]
        }
      ]
    },
    {
      "cell_type": "markdown",
      "source": [
        "# **Creating tensors**"
      ],
      "metadata": {
        "id": "reHHVplTgFm9"
      }
    },
    {
      "cell_type": "code",
      "source": [
        "# Torch empty\n",
        "a= torch.empty(2,3)"
      ],
      "metadata": {
        "id": "GjHZNewhdyOG"
      },
      "execution_count": 4,
      "outputs": []
    },
    {
      "cell_type": "code",
      "source": [
        "type(a)"
      ],
      "metadata": {
        "colab": {
          "base_uri": "https://localhost:8080/"
        },
        "id": "MyJ6mUEbgMUE",
        "outputId": "e4b208ef-2985-4828-a0a2-757cdec9419f"
      },
      "execution_count": 5,
      "outputs": [
        {
          "output_type": "execute_result",
          "data": {
            "text/plain": [
              "torch.Tensor"
            ]
          },
          "metadata": {},
          "execution_count": 5
        }
      ]
    },
    {
      "cell_type": "code",
      "source": [
        "a.dtype"
      ],
      "metadata": {
        "colab": {
          "base_uri": "https://localhost:8080/"
        },
        "id": "WXr2XH2tgYta",
        "outputId": "6c325255-7506-4650-9e04-c51ab34734c7"
      },
      "execution_count": 6,
      "outputs": [
        {
          "output_type": "execute_result",
          "data": {
            "text/plain": [
              "torch.float32"
            ]
          },
          "metadata": {},
          "execution_count": 6
        }
      ]
    },
    {
      "cell_type": "code",
      "source": [
        "\n",
        "# Torch zeros\n",
        "torch.zeros(3,2)"
      ],
      "metadata": {
        "colab": {
          "base_uri": "https://localhost:8080/"
        },
        "id": "pywgVL3-gcoz",
        "outputId": "46a42e16-ebac-4a83-fff0-a8ad6e07b8fa"
      },
      "execution_count": 7,
      "outputs": [
        {
          "output_type": "execute_result",
          "data": {
            "text/plain": [
              "tensor([[0., 0.],\n",
              "        [0., 0.],\n",
              "        [0., 0.]])"
            ]
          },
          "metadata": {},
          "execution_count": 7
        }
      ]
    },
    {
      "cell_type": "code",
      "source": [
        "# Torch Ones\n",
        "\n",
        "torch.ones(4,3,dtype=torch.float32)"
      ],
      "metadata": {
        "colab": {
          "base_uri": "https://localhost:8080/"
        },
        "id": "ajqyNhh-ghk4",
        "outputId": "a8ec6859-e70c-4430-a9c5-bd8aea87ac25"
      },
      "execution_count": 8,
      "outputs": [
        {
          "output_type": "execute_result",
          "data": {
            "text/plain": [
              "tensor([[1., 1., 1.],\n",
              "        [1., 1., 1.],\n",
              "        [1., 1., 1.],\n",
              "        [1., 1., 1.]])"
            ]
          },
          "metadata": {},
          "execution_count": 8
        }
      ]
    },
    {
      "cell_type": "code",
      "source": [
        "# rand with generator seed\n",
        "gen=torch.Generator()\n",
        "gen.manual_seed(42)\n",
        "torch.rand(2,3,generator=gen)"
      ],
      "metadata": {
        "colab": {
          "base_uri": "https://localhost:8080/"
        },
        "id": "5-o7LLRhgp7J",
        "outputId": "dfaa8ab0-214d-4c3b-b2bc-3a4371c14e6a"
      },
      "execution_count": 9,
      "outputs": [
        {
          "output_type": "execute_result",
          "data": {
            "text/plain": [
              "tensor([[0.8823, 0.9150, 0.3829],\n",
              "        [0.9593, 0.3904, 0.6009]])"
            ]
          },
          "metadata": {},
          "execution_count": 9
        }
      ]
    },
    {
      "cell_type": "code",
      "source": [
        "# rand with manual seed\n",
        "torch.manual_seed(100)\n",
        "torch.rand(2,3)"
      ],
      "metadata": {
        "colab": {
          "base_uri": "https://localhost:8080/"
        },
        "id": "FrJOmw4Vg-os",
        "outputId": "95e66bdc-a84a-47c8-9d14-e064d4ba45bf"
      },
      "execution_count": 10,
      "outputs": [
        {
          "output_type": "execute_result",
          "data": {
            "text/plain": [
              "tensor([[0.1117, 0.8158, 0.2626],\n",
              "        [0.4839, 0.6765, 0.7539]])"
            ]
          },
          "metadata": {},
          "execution_count": 10
        }
      ]
    },
    {
      "cell_type": "code",
      "source": [
        "# using tensor\n",
        "torch.tensor([[1,2],[2,3]])"
      ],
      "metadata": {
        "colab": {
          "base_uri": "https://localhost:8080/"
        },
        "id": "TK_1P5h_h8MI",
        "outputId": "d335f5f6-77aa-40e2-a0e4-1928cd8aae1b"
      },
      "execution_count": 11,
      "outputs": [
        {
          "output_type": "execute_result",
          "data": {
            "text/plain": [
              "tensor([[1, 2],\n",
              "        [2, 3]])"
            ]
          },
          "metadata": {},
          "execution_count": 11
        }
      ]
    },
    {
      "cell_type": "code",
      "source": [
        "# other ways\n",
        "print(\" using arange -> \",torch.arange(1,10,3))\n",
        "\n",
        "print(\"Using linspace -> \",torch.linspace(1,10,7,dtype=torch.float32))\n",
        "\n",
        "print(\"Identity matrix -> \")\n",
        "print(torch.eye(5))\n",
        "\n",
        "print(\"Full matrix of same value -> \")\n",
        "print(torch.full((3,3),5.1,dtype=torch.int32))"
      ],
      "metadata": {
        "colab": {
          "base_uri": "https://localhost:8080/"
        },
        "id": "yWWvVpWgiKr0",
        "outputId": "8050f313-4578-4786-da13-b4b73eb56f07"
      },
      "execution_count": 12,
      "outputs": [
        {
          "output_type": "stream",
          "name": "stdout",
          "text": [
            " using arange ->  tensor([1, 4, 7])\n",
            "Using linspace ->  tensor([ 1.0000,  2.5000,  4.0000,  5.5000,  7.0000,  8.5000, 10.0000])\n",
            "Identity matrix -> \n",
            "tensor([[1., 0., 0., 0., 0.],\n",
            "        [0., 1., 0., 0., 0.],\n",
            "        [0., 0., 1., 0., 0.],\n",
            "        [0., 0., 0., 1., 0.],\n",
            "        [0., 0., 0., 0., 1.]])\n",
            "Full matrix of same value -> \n",
            "tensor([[5, 5, 5],\n",
            "        [5, 5, 5],\n",
            "        [5, 5, 5]], dtype=torch.int32)\n"
          ]
        }
      ]
    },
    {
      "cell_type": "markdown",
      "source": [
        "# **Tensor Shape**\n"
      ],
      "metadata": {
        "id": "eSo8AmVjklwW"
      }
    },
    {
      "cell_type": "code",
      "source": [
        "# Tensor Shape\n",
        "a=torch.tensor([[1,2,3],[4,5,6]])"
      ],
      "metadata": {
        "id": "WDwHFpq1ih2o"
      },
      "execution_count": 13,
      "outputs": []
    },
    {
      "cell_type": "code",
      "source": [
        "a.shape"
      ],
      "metadata": {
        "colab": {
          "base_uri": "https://localhost:8080/"
        },
        "id": "enRgknP_kv0r",
        "outputId": "a6f83188-c0b8-4516-89c5-258b1b4143e4"
      },
      "execution_count": 14,
      "outputs": [
        {
          "output_type": "execute_result",
          "data": {
            "text/plain": [
              "torch.Size([2, 3])"
            ]
          },
          "metadata": {},
          "execution_count": 14
        }
      ]
    },
    {
      "cell_type": "code",
      "source": [
        "# empty like a method to create similar dimension empty array\n",
        "torch.empty_like(a)"
      ],
      "metadata": {
        "colab": {
          "base_uri": "https://localhost:8080/"
        },
        "id": "qCQZVzvakwnR",
        "outputId": "10811d35-064d-435e-f244-bd9f21da9c14"
      },
      "execution_count": 15,
      "outputs": [
        {
          "output_type": "execute_result",
          "data": {
            "text/plain": [
              "tensor([[                  0, 7235419174270214779, 7005410123583601186],\n",
              "        [3702915663014147638, 7218486479376624993, 3978705116472751671]])"
            ]
          },
          "metadata": {},
          "execution_count": 15
        }
      ]
    },
    {
      "cell_type": "code",
      "source": [
        "torch.rand_like(a,dtype=torch.float32)"
      ],
      "metadata": {
        "colab": {
          "base_uri": "https://localhost:8080/"
        },
        "id": "zkKGgv3MH3il",
        "outputId": "6763fb3d-7951-4073-f985-61ba0de7dad4"
      },
      "execution_count": 25,
      "outputs": [
        {
          "output_type": "execute_result",
          "data": {
            "text/plain": [
              "tensor([[0.2627, 0.0428, 0.2080],\n",
              "        [0.1180, 0.1217, 0.7356]])"
            ]
          },
          "metadata": {},
          "execution_count": 25
        }
      ]
    },
    {
      "cell_type": "code",
      "source": [],
      "metadata": {
        "id": "ynHj1HhKH4XR"
      },
      "execution_count": null,
      "outputs": []
    },
    {
      "cell_type": "markdown",
      "source": [
        "# **Torch Datatype**"
      ],
      "metadata": {
        "id": "m36vY7LBG3gW"
      }
    },
    {
      "cell_type": "code",
      "source": [
        "# find datatype\n",
        "a.dtype"
      ],
      "metadata": {
        "colab": {
          "base_uri": "https://localhost:8080/"
        },
        "id": "QOthDByVlw46",
        "outputId": "3c1183ce-b318-4e35-b98e-c9d56be0c0c0"
      },
      "execution_count": 16,
      "outputs": [
        {
          "output_type": "execute_result",
          "data": {
            "text/plain": [
              "torch.int64"
            ]
          },
          "metadata": {},
          "execution_count": 16
        }
      ]
    },
    {
      "cell_type": "code",
      "source": [
        "# assign datatype\n",
        "torch.tensor([1.0,2.0,3.0],dtype=torch.int32)\n"
      ],
      "metadata": {
        "colab": {
          "base_uri": "https://localhost:8080/"
        },
        "id": "Cak8S-4XG9Ur",
        "outputId": "990a3bba-4895-48d7-d718-a0a3624666b0"
      },
      "execution_count": 18,
      "outputs": [
        {
          "output_type": "execute_result",
          "data": {
            "text/plain": [
              "tensor([1, 2, 3], dtype=torch.int32)"
            ]
          },
          "metadata": {},
          "execution_count": 18
        }
      ]
    },
    {
      "cell_type": "code",
      "source": [
        "x=torch.tensor([1,2,3],dtype=torch.float32)"
      ],
      "metadata": {
        "id": "cRRcacNrHO8s"
      },
      "execution_count": 20,
      "outputs": []
    },
    {
      "cell_type": "code",
      "source": [
        "x.to(dtype=torch.int32)"
      ],
      "metadata": {
        "colab": {
          "base_uri": "https://localhost:8080/"
        },
        "id": "KW8Lw8NKHXho",
        "outputId": "976ee850-298c-45ea-edef-66365d4aecba"
      },
      "execution_count": 22,
      "outputs": [
        {
          "output_type": "execute_result",
          "data": {
            "text/plain": [
              "tensor([1, 2, 3], dtype=torch.int32)"
            ]
          },
          "metadata": {},
          "execution_count": 22
        }
      ]
    },
    {
      "cell_type": "markdown",
      "source": [
        "# **Mathematical Operation**"
      ],
      "metadata": {
        "id": "Dft8m4WUILxA"
      }
    },
    {
      "cell_type": "markdown",
      "source": [
        "1. Scaler Operation"
      ],
      "metadata": {
        "id": "vSMdvEbAIRXW"
      }
    },
    {
      "cell_type": "code",
      "source": [
        "x=torch.rand((2,3))\n",
        "x"
      ],
      "metadata": {
        "colab": {
          "base_uri": "https://localhost:8080/"
        },
        "id": "77HX_NWOHodi",
        "outputId": "fadb6c1e-a731-4c56-f1e3-2874328f7ae7"
      },
      "execution_count": 27,
      "outputs": [
        {
          "output_type": "execute_result",
          "data": {
            "text/plain": [
              "tensor([[0.2239, 0.3023, 0.1784],\n",
              "        [0.8238, 0.5557, 0.9770]])"
            ]
          },
          "metadata": {},
          "execution_count": 27
        }
      ]
    },
    {
      "cell_type": "code",
      "source": [
        "x+2"
      ],
      "metadata": {
        "colab": {
          "base_uri": "https://localhost:8080/"
        },
        "id": "Bm4WQGORIZiZ",
        "outputId": "0ab9da1e-2ace-4fc2-a67a-6c8114bc5113"
      },
      "execution_count": 28,
      "outputs": [
        {
          "output_type": "execute_result",
          "data": {
            "text/plain": [
              "tensor([[2.2239, 2.3023, 2.1784],\n",
              "        [2.8238, 2.5557, 2.9770]])"
            ]
          },
          "metadata": {},
          "execution_count": 28
        }
      ]
    },
    {
      "cell_type": "code",
      "source": [
        "x-1"
      ],
      "metadata": {
        "colab": {
          "base_uri": "https://localhost:8080/"
        },
        "id": "XzS08BBlIeF1",
        "outputId": "21a83740-a62a-4b2f-fab5-b908a65fcbb4"
      },
      "execution_count": 29,
      "outputs": [
        {
          "output_type": "execute_result",
          "data": {
            "text/plain": [
              "tensor([[-0.7761, -0.6977, -0.8216],\n",
              "        [-0.1762, -0.4443, -0.0230]])"
            ]
          },
          "metadata": {},
          "execution_count": 29
        }
      ]
    },
    {
      "cell_type": "code",
      "source": [
        "x*3"
      ],
      "metadata": {
        "colab": {
          "base_uri": "https://localhost:8080/"
        },
        "id": "OdoSFDAZIg2B",
        "outputId": "2f14ff27-ccc4-4d80-d02f-5841e1078a0d"
      },
      "execution_count": 30,
      "outputs": [
        {
          "output_type": "execute_result",
          "data": {
            "text/plain": [
              "tensor([[0.6717, 0.9070, 0.5353],\n",
              "        [2.4715, 1.6672, 2.9311]])"
            ]
          },
          "metadata": {},
          "execution_count": 30
        }
      ]
    },
    {
      "cell_type": "code",
      "source": [
        "x*100//50"
      ],
      "metadata": {
        "colab": {
          "base_uri": "https://localhost:8080/"
        },
        "id": "p1ROxQTwIiA1",
        "outputId": "d2f60cf3-af3b-4bff-a77a-3884339c0e37"
      },
      "execution_count": 32,
      "outputs": [
        {
          "output_type": "execute_result",
          "data": {
            "text/plain": [
              "tensor([[0., 0., 0.],\n",
              "        [1., 1., 1.]])"
            ]
          },
          "metadata": {},
          "execution_count": 32
        }
      ]
    },
    {
      "cell_type": "code",
      "source": [
        "x**2"
      ],
      "metadata": {
        "colab": {
          "base_uri": "https://localhost:8080/"
        },
        "id": "hulXJ50sIlc_",
        "outputId": "68ab4571-f5bf-400a-e841-ac45366c1e5e"
      },
      "execution_count": 33,
      "outputs": [
        {
          "output_type": "execute_result",
          "data": {
            "text/plain": [
              "tensor([[0.0501, 0.0914, 0.0318],\n",
              "        [0.6787, 0.3089, 0.9546]])"
            ]
          },
          "metadata": {},
          "execution_count": 33
        }
      ]
    },
    {
      "cell_type": "code",
      "source": [
        "# performing operator between two tensors\n",
        "a=torch.rand((2,3))\n",
        "b=torch.rand((2,3))\n",
        "print(a)\n",
        "print(b)"
      ],
      "metadata": {
        "colab": {
          "base_uri": "https://localhost:8080/"
        },
        "id": "ofc8I_t0IwKu",
        "outputId": "0424888d-bdf6-4773-d0cb-1576c5749298"
      },
      "execution_count": 37,
      "outputs": [
        {
          "output_type": "stream",
          "name": "stdout",
          "text": [
            "tensor([[0.9051, 0.5989, 0.4450],\n",
            "        [0.7278, 0.4563, 0.3389]])\n",
            "tensor([[0.6211, 0.5530, 0.6896],\n",
            "        [0.3687, 0.9053, 0.8356]])\n"
          ]
        }
      ]
    },
    {
      "cell_type": "code",
      "source": [
        "a+b"
      ],
      "metadata": {
        "colab": {
          "base_uri": "https://localhost:8080/"
        },
        "id": "ILRsjrbaK9aH",
        "outputId": "d61e4cd9-16a7-4780-f76c-a687437d38d6"
      },
      "execution_count": 38,
      "outputs": [
        {
          "output_type": "execute_result",
          "data": {
            "text/plain": [
              "tensor([[1.5262, 1.1519, 1.1346],\n",
              "        [1.0966, 1.3615, 1.1744]])"
            ]
          },
          "metadata": {},
          "execution_count": 38
        }
      ]
    },
    {
      "cell_type": "code",
      "source": [
        "a-b"
      ],
      "metadata": {
        "colab": {
          "base_uri": "https://localhost:8080/"
        },
        "id": "HGh3pQlnK_An",
        "outputId": "b80b4742-59c2-48cd-8d9a-7783ad6f69d0"
      },
      "execution_count": 39,
      "outputs": [
        {
          "output_type": "execute_result",
          "data": {
            "text/plain": [
              "tensor([[ 0.2839,  0.0458, -0.2446],\n",
              "        [ 0.3591, -0.4490, -0.4967]])"
            ]
          },
          "metadata": {},
          "execution_count": 39
        }
      ]
    },
    {
      "cell_type": "code",
      "source": [
        "a*b"
      ],
      "metadata": {
        "colab": {
          "base_uri": "https://localhost:8080/"
        },
        "id": "0Ylam9T4LGD0",
        "outputId": "9ce9912a-5fbd-4e7b-d29e-4ad9cf245336"
      },
      "execution_count": 40,
      "outputs": [
        {
          "output_type": "execute_result",
          "data": {
            "text/plain": [
              "tensor([[0.5622, 0.3312, 0.3069],\n",
              "        [0.2684, 0.4130, 0.2831]])"
            ]
          },
          "metadata": {},
          "execution_count": 40
        }
      ]
    },
    {
      "cell_type": "code",
      "source": [
        "a/b"
      ],
      "metadata": {
        "colab": {
          "base_uri": "https://localhost:8080/"
        },
        "id": "kuBjREKYLHBD",
        "outputId": "fb9cf157-e249-4f27-aec2-421b1f0cb13e"
      },
      "execution_count": 41,
      "outputs": [
        {
          "output_type": "execute_result",
          "data": {
            "text/plain": [
              "tensor([[1.4571, 1.0829, 0.6453],\n",
              "        [1.9738, 0.5040, 0.4055]])"
            ]
          },
          "metadata": {},
          "execution_count": 41
        }
      ]
    },
    {
      "cell_type": "code",
      "source": [
        "# abs\n",
        "a=torch.tensor([1.35534,-2,3,4])"
      ],
      "metadata": {
        "id": "vVV9a61zLHyh"
      },
      "execution_count": 46,
      "outputs": []
    },
    {
      "cell_type": "code",
      "source": [
        "torch.abs(a)"
      ],
      "metadata": {
        "colab": {
          "base_uri": "https://localhost:8080/"
        },
        "id": "vo5YwFnqLVnA",
        "outputId": "ddd86867-13e6-4ea6-dbfd-a7d26e9e901b"
      },
      "execution_count": 47,
      "outputs": [
        {
          "output_type": "execute_result",
          "data": {
            "text/plain": [
              "tensor([1.3553, 2.0000, 3.0000, 4.0000])"
            ]
          },
          "metadata": {},
          "execution_count": 47
        }
      ]
    },
    {
      "cell_type": "code",
      "source": [
        "# neg\n",
        "torch.neg(a)"
      ],
      "metadata": {
        "colab": {
          "base_uri": "https://localhost:8080/"
        },
        "id": "xIhVdk6ALYWO",
        "outputId": "a87b6db4-7bb4-4a8e-fae3-a9e261b43b27"
      },
      "execution_count": 48,
      "outputs": [
        {
          "output_type": "execute_result",
          "data": {
            "text/plain": [
              "tensor([-1.3553,  2.0000, -3.0000, -4.0000])"
            ]
          },
          "metadata": {},
          "execution_count": 48
        }
      ]
    },
    {
      "cell_type": "code",
      "source": [
        "# round\n",
        "torch.round(a)"
      ],
      "metadata": {
        "colab": {
          "base_uri": "https://localhost:8080/"
        },
        "id": "JUWR_2FYLfAl",
        "outputId": "760a7b34-428a-4342-86d0-fa5834356099"
      },
      "execution_count": 49,
      "outputs": [
        {
          "output_type": "execute_result",
          "data": {
            "text/plain": [
              "tensor([ 1., -2.,  3.,  4.])"
            ]
          },
          "metadata": {},
          "execution_count": 49
        }
      ]
    },
    {
      "cell_type": "code",
      "source": [
        "# ceil\n",
        "torch.ceil(a)"
      ],
      "metadata": {
        "colab": {
          "base_uri": "https://localhost:8080/"
        },
        "id": "VlU5aVAALpJO",
        "outputId": "248d6ea4-d26b-4fd8-d262-f4946b4f5f43"
      },
      "execution_count": 50,
      "outputs": [
        {
          "output_type": "execute_result",
          "data": {
            "text/plain": [
              "tensor([ 2., -2.,  3.,  4.])"
            ]
          },
          "metadata": {},
          "execution_count": 50
        }
      ]
    },
    {
      "cell_type": "code",
      "source": [
        "torch.floor(a)"
      ],
      "metadata": {
        "colab": {
          "base_uri": "https://localhost:8080/"
        },
        "id": "OcHBnBxeLxi7",
        "outputId": "64941130-f734-4119-ad84-ea4aca5bb873"
      },
      "execution_count": 51,
      "outputs": [
        {
          "output_type": "execute_result",
          "data": {
            "text/plain": [
              "tensor([ 1., -2.,  3.,  4.])"
            ]
          },
          "metadata": {},
          "execution_count": 51
        }
      ]
    },
    {
      "cell_type": "code",
      "source": [
        "torch.clamp(a,min=2,max=3)"
      ],
      "metadata": {
        "colab": {
          "base_uri": "https://localhost:8080/"
        },
        "id": "arivp5E2L8R6",
        "outputId": "66d6402d-72cf-446f-9f1a-02b56e8140cd"
      },
      "execution_count": 52,
      "outputs": [
        {
          "output_type": "execute_result",
          "data": {
            "text/plain": [
              "tensor([2., 2., 3., 3.])"
            ]
          },
          "metadata": {},
          "execution_count": 52
        }
      ]
    },
    {
      "cell_type": "markdown",
      "source": [
        "# 3.Reduction"
      ],
      "metadata": {
        "id": "7H35nY94Mmkb"
      }
    },
    {
      "cell_type": "code",
      "source": [
        "a=torch.randint(size=(2,3),low=1,high=10,dtype=torch.float32)\n",
        "a"
      ],
      "metadata": {
        "colab": {
          "base_uri": "https://localhost:8080/"
        },
        "id": "dJPA_cTdMSqZ",
        "outputId": "e8bbc597-aff6-4c74-cd76-f7251b345891"
      },
      "execution_count": 61,
      "outputs": [
        {
          "output_type": "execute_result",
          "data": {
            "text/plain": [
              "tensor([[3., 6., 3.],\n",
              "        [9., 4., 6.]])"
            ]
          },
          "metadata": {},
          "execution_count": 61
        }
      ]
    },
    {
      "cell_type": "code",
      "source": [
        "# sum\n",
        "torch.sum(a)"
      ],
      "metadata": {
        "colab": {
          "base_uri": "https://localhost:8080/"
        },
        "id": "pSK-v91oMxHF",
        "outputId": "dfda2444-7e87-4c79-f681-f0775f3c6dba"
      },
      "execution_count": 57,
      "outputs": [
        {
          "output_type": "execute_result",
          "data": {
            "text/plain": [
              "tensor(16)"
            ]
          },
          "metadata": {},
          "execution_count": 57
        }
      ]
    },
    {
      "cell_type": "code",
      "source": [
        "torch.sum(a,dim=0)"
      ],
      "metadata": {
        "colab": {
          "base_uri": "https://localhost:8080/"
        },
        "id": "fELtXSV1NDnZ",
        "outputId": "a2ad24e4-80b3-45b0-8e57-5fc60aa40b46"
      },
      "execution_count": 58,
      "outputs": [
        {
          "output_type": "execute_result",
          "data": {
            "text/plain": [
              "tensor([3, 8, 5])"
            ]
          },
          "metadata": {},
          "execution_count": 58
        }
      ]
    },
    {
      "cell_type": "code",
      "source": [
        "torch.sum(a,dim=1)"
      ],
      "metadata": {
        "colab": {
          "base_uri": "https://localhost:8080/"
        },
        "id": "4TBojmM5NHYW",
        "outputId": "5243611f-1738-4858-a7f7-10d6dfe3d5ee"
      },
      "execution_count": 59,
      "outputs": [
        {
          "output_type": "execute_result",
          "data": {
            "text/plain": [
              "tensor([ 3, 13])"
            ]
          },
          "metadata": {},
          "execution_count": 59
        }
      ]
    },
    {
      "cell_type": "code",
      "source": [
        "torch.mean(a)\n",
        "\n",
        "torch.mean(a,axis=0)\n",
        "\n",
        "torch.median(a,axis=1)"
      ],
      "metadata": {
        "colab": {
          "base_uri": "https://localhost:8080/"
        },
        "id": "82ATkg0MNNId",
        "outputId": "e8554c84-5c46-437c-9b5d-317f92956e03"
      },
      "execution_count": 64,
      "outputs": [
        {
          "output_type": "execute_result",
          "data": {
            "text/plain": [
              "torch.return_types.median(\n",
              "values=tensor([3., 6.]),\n",
              "indices=tensor([2, 2]))"
            ]
          },
          "metadata": {},
          "execution_count": 64
        }
      ]
    },
    {
      "cell_type": "code",
      "source": [
        "\n",
        "\n",
        "\n"
      ],
      "metadata": {
        "id": "kCOxOKHDNfmE"
      },
      "execution_count": null,
      "outputs": []
    },
    {
      "cell_type": "markdown",
      "source": [
        "# **torch array multiplication**"
      ],
      "metadata": {
        "id": "C-BCJ8Wbjzve"
      }
    },
    {
      "cell_type": "code",
      "source": [
        "x=torch.arange(6).reshape(2,3)"
      ],
      "metadata": {
        "id": "NisgWKipkAIN"
      },
      "execution_count": 4,
      "outputs": []
    },
    {
      "cell_type": "code",
      "source": [
        "x"
      ],
      "metadata": {
        "colab": {
          "base_uri": "https://localhost:8080/"
        },
        "id": "_DIx7QV9meHt",
        "outputId": "a9f8e307-314e-4302-a258-e28955b9aae0"
      },
      "execution_count": 5,
      "outputs": [
        {
          "output_type": "execute_result",
          "data": {
            "text/plain": [
              "tensor([[0, 1, 2],\n",
              "        [3, 4, 5]])"
            ]
          },
          "metadata": {},
          "execution_count": 5
        }
      ]
    },
    {
      "cell_type": "code",
      "source": [
        "x=torch.tensor([1,2,3])\n",
        "y=torch.tensor([1,4,5])"
      ],
      "metadata": {
        "id": "ncKINoyxkErN"
      },
      "execution_count": 14,
      "outputs": []
    },
    {
      "cell_type": "code",
      "source": [
        "torch.dot(x,y)"
      ],
      "metadata": {
        "colab": {
          "base_uri": "https://localhost:8080/"
        },
        "id": "TVOUCOKOk2oV",
        "outputId": "a2db4b4b-3d2c-4746-d1b0-a7693bc93352"
      },
      "execution_count": 15,
      "outputs": [
        {
          "output_type": "execute_result",
          "data": {
            "text/plain": [
              "tensor(24)"
            ]
          },
          "metadata": {},
          "execution_count": 15
        }
      ]
    },
    {
      "cell_type": "code",
      "source": [
        "y.reshape(-1,6)"
      ],
      "metadata": {
        "colab": {
          "base_uri": "https://localhost:8080/"
        },
        "id": "kNwwLQ_pkM8f",
        "outputId": "1c427019-cef1-4aed-af96-c31be45a161a"
      },
      "execution_count": 19,
      "outputs": [
        {
          "output_type": "execute_result",
          "data": {
            "text/plain": [
              "tensor([[0, 1, 2, 3, 4, 5]])"
            ]
          },
          "metadata": {},
          "execution_count": 19
        }
      ]
    },
    {
      "cell_type": "markdown",
      "source": [
        "# Broadcasting"
      ],
      "metadata": {
        "id": "swH9vi73qDpr"
      }
    },
    {
      "cell_type": "code",
      "source": [
        "a = torch.arange(1,4)"
      ],
      "metadata": {
        "id": "yEUvlDHDkR-R"
      },
      "execution_count": 22,
      "outputs": []
    },
    {
      "cell_type": "code",
      "source": [
        "print(a)"
      ],
      "metadata": {
        "colab": {
          "base_uri": "https://localhost:8080/"
        },
        "id": "hYhVO1fgqLoc",
        "outputId": "259b4036-3a25-44bf-c933-bb52068d3866"
      },
      "execution_count": 23,
      "outputs": [
        {
          "output_type": "stream",
          "name": "stdout",
          "text": [
            "tensor([1, 2, 3])\n"
          ]
        }
      ]
    },
    {
      "cell_type": "code",
      "source": [
        "a=a.reshape((3,1))"
      ],
      "metadata": {
        "id": "AOB9GCKKqMjm"
      },
      "execution_count": 30,
      "outputs": []
    },
    {
      "cell_type": "code",
      "source": [
        "x=torch.tensor([1,2,3])"
      ],
      "metadata": {
        "id": "SjZxp9YKqq4g"
      },
      "execution_count": 33,
      "outputs": []
    },
    {
      "cell_type": "code",
      "source": [
        "x+a"
      ],
      "metadata": {
        "colab": {
          "base_uri": "https://localhost:8080/"
        },
        "id": "dtLR4_VLrBvf",
        "outputId": "f14510e7-addb-4dd9-a259-49386bbbb4a3"
      },
      "execution_count": 34,
      "outputs": [
        {
          "output_type": "execute_result",
          "data": {
            "text/plain": [
              "tensor([[2, 3, 4],\n",
              "        [3, 4, 5],\n",
              "        [4, 5, 6]])"
            ]
          },
          "metadata": {},
          "execution_count": 34
        }
      ]
    },
    {
      "cell_type": "code",
      "source": [
        "x>a"
      ],
      "metadata": {
        "colab": {
          "base_uri": "https://localhost:8080/"
        },
        "id": "yCQjC-B6rNlo",
        "outputId": "a8d9ea90-4642-4348-a53d-d51628b7ad25"
      },
      "execution_count": 35,
      "outputs": [
        {
          "output_type": "execute_result",
          "data": {
            "text/plain": [
              "tensor([[False,  True,  True],\n",
              "        [False, False,  True],\n",
              "        [False, False, False]])"
            ]
          },
          "metadata": {},
          "execution_count": 35
        }
      ]
    },
    {
      "cell_type": "code",
      "source": [
        "a=torch.ones((2, 3, 1))"
      ],
      "metadata": {
        "id": "DVQhH3DowgQY"
      },
      "execution_count": 38,
      "outputs": []
    },
    {
      "cell_type": "code",
      "source": [
        "print(a)"
      ],
      "metadata": {
        "colab": {
          "base_uri": "https://localhost:8080/"
        },
        "id": "JTE7M1MDrtyJ",
        "outputId": "30ef5e17-c150-43d1-fc85-0343a8427d65"
      },
      "execution_count": 39,
      "outputs": [
        {
          "output_type": "stream",
          "name": "stdout",
          "text": [
            "tensor([[[1.],\n",
            "         [1.],\n",
            "         [1.]],\n",
            "\n",
            "        [[1.],\n",
            "         [1.],\n",
            "         [1.]]])\n"
          ]
        }
      ]
    },
    {
      "cell_type": "code",
      "source": [
        "b=torch.ones((3,))"
      ],
      "metadata": {
        "id": "J-dhcYOCwlD-"
      },
      "execution_count": 41,
      "outputs": []
    },
    {
      "cell_type": "code",
      "source": [
        "b"
      ],
      "metadata": {
        "colab": {
          "base_uri": "https://localhost:8080/"
        },
        "id": "yLOPRbV0wxT4",
        "outputId": "c3e29451-8d0c-4a1d-87cf-f54fe964234b"
      },
      "execution_count": 42,
      "outputs": [
        {
          "output_type": "execute_result",
          "data": {
            "text/plain": [
              "tensor([1., 1., 1.])"
            ]
          },
          "metadata": {},
          "execution_count": 42
        }
      ]
    },
    {
      "cell_type": "markdown",
      "source": [
        "# **Fully connected layer**"
      ],
      "metadata": {
        "id": "uiGdIgH7aXbO"
      }
    },
    {
      "cell_type": "code",
      "source": [
        "x=torch.arange(50).view(10,5)"
      ],
      "metadata": {
        "id": "Ldy0DotVwzWP"
      },
      "execution_count": 5,
      "outputs": []
    },
    {
      "cell_type": "code",
      "source": [
        "x"
      ],
      "metadata": {
        "colab": {
          "base_uri": "https://localhost:8080/"
        },
        "id": "I7Mq90jKakCd",
        "outputId": "d5861d15-f4ee-4ffd-d33f-1695816340e7"
      },
      "execution_count": 6,
      "outputs": [
        {
          "output_type": "execute_result",
          "data": {
            "text/plain": [
              "tensor([[ 0,  1,  2,  3,  4],\n",
              "        [ 5,  6,  7,  8,  9],\n",
              "        [10, 11, 12, 13, 14],\n",
              "        [15, 16, 17, 18, 19],\n",
              "        [20, 21, 22, 23, 24],\n",
              "        [25, 26, 27, 28, 29],\n",
              "        [30, 31, 32, 33, 34],\n",
              "        [35, 36, 37, 38, 39],\n",
              "        [40, 41, 42, 43, 44],\n",
              "        [45, 46, 47, 48, 49]])"
            ]
          },
          "metadata": {},
          "execution_count": 6
        }
      ]
    },
    {
      "cell_type": "code",
      "source": [
        "layer=torch.nn.Linear(in_features=5,out_features=3)"
      ],
      "metadata": {
        "id": "TIskX_ryaupA"
      },
      "execution_count": 7,
      "outputs": []
    },
    {
      "cell_type": "code",
      "source": [
        "layer.weight"
      ],
      "metadata": {
        "colab": {
          "base_uri": "https://localhost:8080/"
        },
        "id": "gD74f9xxa5Y9",
        "outputId": "ad14bee2-92e5-4fc5-c244-2fc69a584501"
      },
      "execution_count": 12,
      "outputs": [
        {
          "output_type": "execute_result",
          "data": {
            "text/plain": [
              "Parameter containing:\n",
              "tensor([[-0.1154,  0.3783,  0.4367, -0.2308,  0.1475],\n",
              "        [ 0.1088, -0.3279, -0.0135, -0.3113,  0.1556],\n",
              "        [-0.1219, -0.0399, -0.1319,  0.3255,  0.4029]], requires_grad=True)"
            ]
          },
          "metadata": {},
          "execution_count": 12
        }
      ]
    },
    {
      "cell_type": "code",
      "source": [
        "layer.bias"
      ],
      "metadata": {
        "colab": {
          "base_uri": "https://localhost:8080/"
        },
        "id": "HENPxufNa75l",
        "outputId": "b1dbf8f9-acdb-4f6a-e878-ca1195a99242"
      },
      "execution_count": 13,
      "outputs": [
        {
          "output_type": "execute_result",
          "data": {
            "text/plain": [
              "Parameter containing:\n",
              "tensor([-0.0995, -0.1743,  0.0067], requires_grad=True)"
            ]
          },
          "metadata": {},
          "execution_count": 13
        }
      ]
    },
    {
      "cell_type": "code",
      "source": [],
      "metadata": {
        "id": "Bh3rUHGvbH9A"
      },
      "execution_count": null,
      "outputs": []
    }
  ]
}